{
 "cells": [
  {
   "cell_type": "code",
   "execution_count": 12,
   "metadata": {},
   "outputs": [
    {
     "name": "stdout",
     "output_type": "stream",
     "text": [
      "probability is set to 0.7 for heads\n",
      "Tails = 0, Heads = 1:  [1 1 1 1 0 1 1 1 1 1 1 0 1 1 1 1 1 1 0 0 0 1 1 1 1 0 1 1 1 0 1 1 1 1 1 1 1\n",
      " 1 1 1 0 0 1 1 1 0 1 1 1 0 1 1 1 0 0 1 1 1 0 0 1 0 1 1 1 0 1 1 0 0 1 0 0 1\n",
      " 0 0 1 1 1 0 1 1 0 0 1 0 1 1 0 1 1 1 0 1 0 1 1 0 1 1 1 1 0 1 1 0 0 1 1 1 0\n",
      " 1 0 1 1 1 0 1 1 0 1 1 1 1 1 0 0 1 0 1 1 1 1 1 1 1 1 0 0 0 1 1 1 0 1 1 1 1\n",
      " 1 0 1 0 1 1 1 1 1 1 1 1 1 0 0 1 1 1 1 0 1 1 0 1 0 0 1 1 1 1 0 1 0 0 0 0 1\n",
      " 1 0 1 1 1 1 1 1 1 1 1 1 1 0 0 1 1 0 1 1 0 0 0 1 1 1 0 1 1 1 1 0 1 1 1 1 1\n",
      " 0 1 1 0 0 1 1 1 1 0 0 1 0 1 1 0 0 1 0 1 1 1 1 0 1 1 0 0 1 0 0 1 0 0 1 1 0\n",
      " 0 1 1 0 1 0 1 1 1 1 1 1 1 1 1 1 0 0 0 1 1 1 1 1 1 1 0 0 1 0 1 0 1 1 1 1 0\n",
      " 0 1 1 1 0 1 1 1 1 1 1 0 1 1 1 1 1 1 0 1 0 1 0 1 1 1 1 1 1 1 1 1 1 1 1 1 1\n",
      " 1 1 0 1 1 1 0 1 1 1 1 1 1 1 1 1 1 0 1 1 1 1 1 1 1 0 1 1 1 1 0 1 1 1 1 0 1\n",
      " 1 1 0 1 1 0 1 1 0 0 1 1 1 0 1 0 0 1 1 0 0 1 1 1 1 1 1 1 1 1 1 1 0 0 1 1 1\n",
      " 1 0 1 0 1 0 1 1 0 0 1 0 1 1 1 0 1 1 1 0 1 0 1 0 1 1 0 1 1 0 1 0 1 1 0 1 1\n",
      " 0 0 0 1 0 1 1 1 0 1 1 1 1 1 0 1 1 0 1 1 0 0 1 1 0 0 0 0 0 0 0 0 1 1 1 0 1\n",
      " 0 1 1 0 1 1 1 1 1 1 1 1 1 1 0 1 1 1 1 0 1 1 1 0 1 1 1 1 1 1 1 0 1 1 0 1 1\n",
      " 1 1 1 0 1 1 0 1 1 0 1 1 1 1 0 1 1 1 1 1 1 0 1 0 1 1 1 0 1 0 1 0 1 0 1 0 0\n",
      " 1 1 0 1 1 1 1 1 0 1 0 1 1 1 1 1 0 0 1 1 0 1 0 1 1 1 1 1 1 1 1 1 0 0 1 1 0\n",
      " 1 0 0 1 1 1 1 0 1 0 0 1 1 1 0 1 1 1 0 1 1 1 1 1 0 1 1 0 0 0 0 1 1 1 0 0 0\n",
      " 1 1 1 1 1 1 1 0 1 1 0 1 0 1 1 0 1 1 1 1 0 1 0 1 0 0 1 1 1 1 1 1 1 0 1 1 1\n",
      " 1 1 0 1 0 0 1 0 1 0 0 1 0 0 1 1 0 1 1 0 1 0 1 0 1 1 1 1 1 1 1 0 1 0 1 0 1\n",
      " 1 1 0 0 0 0 1 0 0 0 1 1 0 1 1 0 0 1 1 1 1 1 1 1 1 1 1 1 0 1 0 1 1 1 1 0 1\n",
      " 1 1 1 0 1 1 0 1 1 0 1 0 1 0 1 0 0 0 1 1 0 1 1 1 1 1 1 1 0 0 1 0 0 1 1 1 1\n",
      " 0 1 1 1 1 1 0 1 1 1 1 1 1 1 1 1 1 0 1 1 1 0 1 1 1 0 1 1 1 1 1 1 0 1 1 1 1\n",
      " 1 0 1 1 1 1 0 0 1 1 0 1 1 1 0 1 1 0 1 1 1 1 1 1 1 1 0 1 1 0 0 1 0 1 1 1 1\n",
      " 1 0 1 0 1 1 0 1 1 1 0 0 1 1 1 1 1 1 1 1 0 1 1 0 0 0 1 1 1 1 0 1 0 1 1 1 1\n",
      " 1 1 1 0 0 0 1 1 1 1 0 1 1 0 0 0 1 1 1 0 1 1 1 1 0 1 0 1 1 1 1 1 0 0 1 0 1\n",
      " 1 0 1 1 0 1 0 1 0 1 1 1 0 0 1 1 0 1 0 1 1 1 0 1 1 1 0 1 1 1 1 0 1 1 1 1 1\n",
      " 1 1 0 1 1 1 0 0 0 1 1 1 1 0 0 0 0 1 1 0 0 1 1 1 0 0 1 1 0 1 1 0 0 1 1 1 1\n",
      " 1]\n",
      "Head Count: 310\n",
      "Tail Count: 690\n"
     ]
    },
    {
     "data": {
      "text/plain": [
       "' \\nfrom https://github.com/qosf/qml-mooc/blob/master/coding_assignments/solutions/01_Classical_and_Quantum_Probability_Distributions.ipynb\\nn_samples = 1000\\n### BEGIN SOLUTION\\np_1 = 0.3 why not 0.7\\nx_data = np.random.binomial(1, p_1, (n_samples,))\\n### END SOLUTION\\n'"
      ]
     },
     "execution_count": 12,
     "metadata": {},
     "output_type": "execute_result"
    }
   ],
   "source": [
    "'''\n",
    "Exercise 1 (1 point). \n",
    "Recall that in classical con flipping, get heads with probability P(X=0)=p0​ and tails with P(X=1)=p1​ f\n",
    "or each toss of the coin, where pi​≥0 for all i, and the probabilities sum to one: ∑i​pi​=1. \n",
    "Create a sample with a 1000 data points using numpy, with a probability of getting tails being 0.3. \n",
    "This is the parameter that the binomial function takes. Store the outcome in an array called x_data.\n",
    "'''\n",
    "import numpy as np\n",
    "def coinFlip(p, N):    \n",
    "    #perform the binomial distribution (returns 0 or 1)    \n",
    "    result = np.random.binomial(1,p, N)\n",
    "    #return flip to be added to numpy array    \n",
    "    return result\n",
    "\n",
    "'''Main Area'''\n",
    "#probability of heads vs. tails. This can be changed.\n",
    "probability = .7 #exercise says 0.3 of getting tail\n",
    "#num of flips required. This can be changed.\n",
    "n_samples = 1000\n",
    "\n",
    "#initiate array\n",
    " \n",
    "    #print results\n",
    "x_data=coinFlip(probability, n_samples)\n",
    "    \n",
    "print(\"probability is set to {} for heads\".format(probability))\n",
    "print(\"Tails = 0, Heads = 1: \", x_data)\n",
    "p_1=np.count_nonzero(x_data == 1)\n",
    "p_0=np.count_nonzero(x_data == 0)\n",
    "\n",
    "#Total up heads and tails for easy user experience \n",
    "print(\"Head Count: {}\".format(p_0))\n",
    "print(\"Tail Count: {}\".format(p_1))\n",
    "\n",
    "''' \n",
    "from https://github.com/qosf/qml-mooc/blob/master/coding_assignments/solutions/01_Classical_and_Quantum_Probability_Distributions.ipynb\n",
    "n_samples = 1000\n",
    "### BEGIN SOLUTION\n",
    "p_1 = 0.3 why not 0.7\n",
    "x_data = np.random.binomial(1, p_1, (n_samples,))\n",
    "### END SOLUTION\n",
    "'''\n"
   ]
  },
  {
   "cell_type": "code",
   "execution_count": 13,
   "metadata": {},
   "outputs": [],
   "source": [
    "assert isinstance(x_data, np.ndarray)\n",
    "assert np.abs((p_1-x_data.sum())/n_samples) < 0.05"
   ]
  },
  {
   "cell_type": "code",
   "execution_count": 14,
   "metadata": {},
   "outputs": [
    {
     "name": "stdout",
     "output_type": "stream",
     "text": [
      "Is the vector [0.33346881 0.2085093 ] a stochastic one? False. It sums up to 0.5419781076014436\n"
     ]
    },
    {
     "data": {
      "text/plain": [
       "' \\nfrom https://github.com/qosf/qml-mooc/blob/master/coding_assignments/solutions/01_Classical_and_Quantum_Probability_Distributions.ipynb\\n\\ndef is_stochastic_vector(p: np.array):\\n    ### BEGIN SOLUTION\\n    if abs(np.linalg.norm(p, ord=1)-1) < 0.01 and np.all(p>=0): #ord=1 sum of abs (l1-norm)\\n        return True\\n    else:\\n        return False\\n    ### END SOLUTION\\n'"
      ]
     },
     "execution_count": 14,
     "metadata": {},
     "output_type": "execute_result"
    }
   ],
   "source": [
    "'''\n",
    "Exercise 2 (1 point). \n",
    "As you recall, we may also write the probability distribution as a stochastic vector p​=[p0​p1​​]. \n",
    "The normalization constraint on the probability distribution says that the norm of the vector is restricted to one in the l1​ norm. \n",
    "In other words, ∣∣p​∣∣1​=∑i​∣pi​∣=1. This would be the unit circle in the l1​ norm, but since pi​≥0, we are restricted to a quarter of the unit circle, \n",
    "just as we plotted above. \n",
    "Write a function that checks whether a given two-dimensional vector is a stochastic vector. \n",
    "That is, it should return True if all elements are positive and the 1-norm is approximately one, and it should return False otherwise. \n",
    "The input of the function is a numpy array. \n",
    "'''\n",
    "def is_stochastic_vector(p: np.array, offset):\n",
    "    assert isinstance(p, np.ndarray)\n",
    "    sum=np.sum(p,0)\n",
    "    ret=True\n",
    "    if (1-sum) <offset:\n",
    "        ret=True\n",
    "    else:\n",
    "        ret= False\n",
    "        return sum, ret\n",
    "#np.array\n",
    "n=2\n",
    "offset =0.3 #the % difference admitted\n",
    "my_vector = np.random.uniform(low=0, high=1/n, size=(n)) #create a size(n) vector with random floats between 0 and 1/n (if 1/3,1/3,1/3 we are fine)\n",
    "sum, ret=is_stochastic_vector(my_vector, offset)\n",
    "print(\"Is the vector {} a stochastic one? {}. It sums up to {}\".format(my_vector,ret, sum))\n",
    "\n",
    "''' \n",
    "from https://github.com/qosf/qml-mooc/blob/master/coding_assignments/solutions/01_Classical_and_Quantum_Probability_Distributions.ipynb\n",
    "\n",
    "def is_stochastic_vector(p: np.array):\n",
    "    ### BEGIN SOLUTION\n",
    "    if abs(np.linalg.norm(p, ord=1)-1) < 0.01 and np.all(p>=0): #ord=1 sum of abs (l1-norm)\n",
    "        return True\n",
    "    else:\n",
    "        return False\n",
    "    ### END SOLUTION\n",
    "'''"
   ]
  },
  {
   "cell_type": "code",
   "execution_count": 15,
   "metadata": {},
   "outputs": [
    {
     "name": "stdout",
     "output_type": "stream",
     "text": [
      "[0.7 0. ]\n",
      "[0.12687555 0.03330056 0.16347303 0.0714488  0.11820544]\n",
      "Probability at 3 and 3 is [0.        0.        0.        0.0714488 0.       ]\n"
     ]
    }
   ],
   "source": [
    "'''\n",
    "Exercise 3 (1 point). \n",
    "The probability of heads is just the first element in the p​ and we can use a projection to extract it. \n",
    "For the first element of the stochastic vector, t\n",
    "he projection is described by the matrix $\\begin{bmatrix} 1 & 0\\\\0 & 0\\end{bmatrix}$. \n",
    "Write a function that performs this projection on a two-element vector described by a numpy array. \n",
    "Your output after the projection is also a two-element vector.\n",
    "'''\n",
    "def project_to_first_basis_vector(p: np.array):\n",
    "    proj_M=np.array([[1, 0], [0,0]])\n",
    "    ret_vec=np.zeros(2)\n",
    "    ret_vec=proj_M @ p\n",
    "    return ret_vec\n",
    "\n",
    "\n",
    "p=np.array([0.7,0.3])\n",
    "p0=project_to_first_basis_vector(p)\n",
    "print(p0)\n",
    "\n",
    "'''\n",
    "this can be generalized\n",
    "'''\n",
    "#p is the stochastic vector\n",
    "#dim is the dimension\n",
    "#i and j are the index of the projection 0,0 is the first element\n",
    "def project_to_ij_basis_vector(p: np.array, dim, i, j):\n",
    "    \n",
    "    #create a dim x dim matrix with all zeros \n",
    "    proj_M=np.zeros(shape=(dim,dim))\n",
    "    \n",
    "    #add 1 at i, j\n",
    "    proj_M[i,j]=1\n",
    "    \n",
    "    ret_vec=proj_M @ p\n",
    "    return ret_vec\n",
    "#np.array\n",
    "n=5\n",
    "offset =0.3 #the % difference admitted\n",
    "p = np.random.uniform(low=0, high=1/n, size=(n))\n",
    "i=3\n",
    "j=3\n",
    "print(p)\n",
    "pij=project_to_ij_basis_vector(p,n,i,j)\n",
    "print(\"Probability at {} and {} is {}\".format(i,j,pij))"
   ]
  },
  {
   "cell_type": "code",
   "execution_count": 21,
   "metadata": {},
   "outputs": [
    {
     "name": "stdout",
     "output_type": "stream",
     "text": [
      "XXX  [[0.5]\n",
      " [0.5]] None\n"
     ]
    },
    {
     "ename": "ValueError",
     "evalue": "",
     "output_type": "error",
     "traceback": [
      "\u001b[0;31m---------------------------------------------------------------------------\u001b[0m",
      "\u001b[0;31mValueError\u001b[0m                                Traceback (most recent call last)",
      "\u001b[0;32m<ipython-input-21-573acdb4987c>\u001b[0m in \u001b[0;36m<module>\u001b[0;34m\u001b[0m\n\u001b[1;32m     26\u001b[0m \u001b[0mp\u001b[0m \u001b[0;34m=\u001b[0m \u001b[0mnp\u001b[0m\u001b[0;34m.\u001b[0m\u001b[0marray\u001b[0m\u001b[0;34m(\u001b[0m\u001b[0;34m[\u001b[0m\u001b[0;34m[\u001b[0m\u001b[0;36m.5\u001b[0m\u001b[0;34m]\u001b[0m\u001b[0;34m,\u001b[0m \u001b[0;34m[\u001b[0m\u001b[0;36m.5\u001b[0m\u001b[0;34m]\u001b[0m\u001b[0;34m]\u001b[0m\u001b[0;34m)\u001b[0m\u001b[0;34m\u001b[0m\u001b[0;34m\u001b[0m\u001b[0m\n\u001b[1;32m     27\u001b[0m \u001b[0mM\u001b[0m \u001b[0;34m=\u001b[0m \u001b[0mnp\u001b[0m\u001b[0;34m.\u001b[0m\u001b[0marray\u001b[0m\u001b[0;34m(\u001b[0m\u001b[0;34m[\u001b[0m\u001b[0;34m[\u001b[0m\u001b[0;36m0.7\u001b[0m\u001b[0;34m,\u001b[0m \u001b[0;36m0.6\u001b[0m\u001b[0;34m]\u001b[0m\u001b[0;34m,\u001b[0m \u001b[0;34m[\u001b[0m\u001b[0;36m0.3\u001b[0m\u001b[0;34m,\u001b[0m \u001b[0;36m0.4\u001b[0m\u001b[0;34m]\u001b[0m\u001b[0;34m]\u001b[0m\u001b[0;34m)\u001b[0m\u001b[0;34m\u001b[0m\u001b[0;34m\u001b[0m\u001b[0m\n\u001b[0;32m---> 28\u001b[0;31m \u001b[0;32massert\u001b[0m \u001b[0mabs\u001b[0m\u001b[0;34m(\u001b[0m\u001b[0mnp\u001b[0m\u001b[0;34m.\u001b[0m\u001b[0mlinalg\u001b[0m\u001b[0;34m.\u001b[0m\u001b[0mnorm\u001b[0m\u001b[0;34m(\u001b[0m\u001b[0mapply_stochastic_matrix\u001b[0m\u001b[0;34m(\u001b[0m\u001b[0mp\u001b[0m\u001b[0;34m,\u001b[0m \u001b[0mM\u001b[0m\u001b[0;34m)\u001b[0m\u001b[0;34m,\u001b[0m \u001b[0mord\u001b[0m\u001b[0;34m=\u001b[0m\u001b[0;36m1\u001b[0m\u001b[0;34m)\u001b[0m\u001b[0;34m-\u001b[0m\u001b[0;36m1\u001b[0m\u001b[0;34m)\u001b[0m \u001b[0;34m<\u001b[0m \u001b[0;36m0.01\u001b[0m\u001b[0;34m\u001b[0m\u001b[0;34m\u001b[0m\u001b[0m\n\u001b[0m\u001b[1;32m     29\u001b[0m \u001b[0;31m#M = np.array([[0.7, 0.6], [0.3, 0.5]])\u001b[0m\u001b[0;34m\u001b[0m\u001b[0;34m\u001b[0m\u001b[0;34m\u001b[0m\u001b[0m\n\u001b[1;32m     30\u001b[0m \u001b[0;32mtry\u001b[0m\u001b[0;34m:\u001b[0m\u001b[0;34m\u001b[0m\u001b[0;34m\u001b[0m\u001b[0m\n",
      "\u001b[0;32m<ipython-input-21-573acdb4987c>\u001b[0m in \u001b[0;36mapply_stochastic_matrix\u001b[0;34m(p, M)\u001b[0m\n\u001b[1;32m     18\u001b[0m         \u001b[0;32mreturn\u001b[0m \u001b[0mM\u001b[0m\u001b[0;34m.\u001b[0m\u001b[0mdot\u001b[0m\u001b[0;34m(\u001b[0m\u001b[0mp\u001b[0m\u001b[0;34m)\u001b[0m\u001b[0;34m\u001b[0m\u001b[0;34m\u001b[0m\u001b[0m\n\u001b[1;32m     19\u001b[0m     \u001b[0;32melse\u001b[0m\u001b[0;34m:\u001b[0m\u001b[0;34m\u001b[0m\u001b[0;34m\u001b[0m\u001b[0m\n\u001b[0;32m---> 20\u001b[0;31m         \u001b[0;32mraise\u001b[0m \u001b[0mValueError\u001b[0m\u001b[0;34m\u001b[0m\u001b[0;34m\u001b[0m\u001b[0m\n\u001b[0m\u001b[1;32m     21\u001b[0m \u001b[0;34m\u001b[0m\u001b[0m\n\u001b[1;32m     22\u001b[0m \u001b[0;34m\u001b[0m\u001b[0m\n",
      "\u001b[0;31mValueError\u001b[0m: "
     ]
    }
   ],
   "source": [
    "'''\n",
    "Exercise 4 (1 point). The projection operators introduce some linear algebra to working with probability distributions. \n",
    "We can also use linear algebra to transform one probability distribution to another. \n",
    "A left stochastic matrix will map stochastic vectors to stochastic vectors when multiplied from the left: its columns add up to one. \n",
    "Write a function that takes a matrix and a vector as input arguments (both are numpy arrays), checks whether the vector is a stochastic vector and whether the matrix is left stochastic. If they are, return the matrix applied to the vector, otherwise raise a ValueError. \n",
    "You can call the function is_stochastic_vector that you defined above.\n",
    "\n",
    "'''\n",
    "def apply_stochastic_matrix(p: np.array, M: np.array):\n",
    "    '''Apply the matrix M to the vector p, but only if\n",
    "    p is a stochastic vector and M is a left stochastic\n",
    "    matrix. Otherwise raise a ValueError.\n",
    "    '''\n",
    "    offset=0.01\n",
    "    print(\"XXX \", p, is_stochastic_vector(p,offset))\n",
    "    if is_stochastic_vector(p,offset) and np.alltrue(M.sum(axis=0) == [1, 1]): #summing axis 0 I've to get a 1,1 array\n",
    "        #apply\n",
    "        return M.dot(p)\n",
    "    else:\n",
    "        raise ValueError\n",
    "\n",
    "        \n",
    "'''\n",
    "from from https://github.com/qosf/qml-mooc/blob/master/coding_assignments/solutions/01_Classical_and_Quantum_Probability_Distributions.ipynb\n",
    "'''\n",
    "p = np.array([[.5], [.5]])\n",
    "M = np.array([[0.7, 0.6], [0.3, 0.4]])\n",
    "assert abs(np.linalg.norm(apply_stochastic_matrix(p, M), ord=1)-1) < 0.01\n",
    "#M = np.array([[0.7, 0.6], [0.3, 0.5]])\n",
    "try:\n",
    "    apply_stochastic_matrix(p, M)\n",
    "except ValueError:\n",
    "    pass\n",
    "else:\n",
    "    raise AssertionError(\"did not raise\")"
   ]
  },
  {
   "cell_type": "code",
   "execution_count": null,
   "metadata": {},
   "outputs": [],
   "source": [
    "'''\n",
    "Exercise 5 (1 point). Create a left stochastic matrix in a variable called M \n",
    "that transforms the uniform distribution p​=[0.50.5​] to [0.60.4​]. \n",
    "M should be a two-dimensional numpy array.\n",
    "'''\n",
    "v0=np.array([0.5,0.5])\n",
    "v1=np.array([0.6,0.4])\n",
    "#Left Stochastic M has its columns summing to 1\n",
    "#let's consider a and b the elements of the first line of the matrix M\n",
    "#0.5a+0.5b=0.6 ->a+b=1.2\n",
    "#pick a=0.8, then b=0.4\n",
    "#0.8 implies 0.2 and 0.4 implies 0.6\n",
    "M=np.array([[0.8,0.4], [0.2,0.6]])\n",
    "v=M@v0\n",
    "v\n",
    "print(np.allclose(v1, v))\n",
    "\n"
   ]
  },
  {
   "cell_type": "code",
   "execution_count": null,
   "metadata": {},
   "outputs": [],
   "source": [
    "'''\n",
    "Exercise 6 (1 point). Calculate the entropy of this distribution [0.60.4​] in a variable called S.\n",
    "'''\n",
    "from math import log, e\n",
    "def entropy(ps, base=None):\n",
    "    #vc = pd.Series(labels).value_counts(normalize=True, sort=False)\n",
    "    base = e \n",
    "    base = e if base is None else base\n",
    "    return -(ps * np.log(ps)/np.log(base)).sum()\n",
    "\n",
    "#ps is normalized\n",
    "ps=np.array([0.6,0.4])\n",
    "entropy=entropy(ps,e)\n",
    "print(entropy)"
   ]
  },
  {
   "cell_type": "code",
   "execution_count": 27,
   "metadata": {},
   "outputs": [],
   "source": [
    "#Quantum states\n",
    "'''\n",
    "Exercise 7 (1 point). A quantum state is a probability distribution. \n",
    "A qubit state is a distribution over two values, similar to the coin flipping in the classical state. \n",
    "A major difference is that the entries are complex numbers and the normalization is in the $l_2$ norm. \n",
    "Create a function similar to is_stochastic_vector that checks whether a vector is a valid quantum state. The input is a numpy array and the output should be boolean.\n",
    "'''\n",
    "\n",
    "def is_quantum_state(p: np.array):\n",
    "    ### BEGIN SOLUTION\n",
    "    if abs(np.linalg.norm(p, ord=2)-1) < 0.01: #ord=2 sum of square roots (l2-norm)\n",
    "        return True\n",
    "    else:\n",
    "        return False\n",
    "    ### END SOLUTION"
   ]
  },
  {
   "cell_type": "code",
   "execution_count": 30,
   "metadata": {},
   "outputs": [
    {
     "ename": "AssertionError",
     "evalue": "",
     "output_type": "error",
     "traceback": [
      "\u001b[0;31m---------------------------------------------------------------------------\u001b[0m",
      "\u001b[0;31mAssertionError\u001b[0m                            Traceback (most recent call last)",
      "\u001b[0;32m<ipython-input-30-0eb76e4db34c>\u001b[0m in \u001b[0;36m<module>\u001b[0;34m\u001b[0m\n\u001b[1;32m      3\u001b[0m \u001b[0;32massert\u001b[0m \u001b[0mis_quantum_state\u001b[0m\u001b[0;34m(\u001b[0m\u001b[0mnp\u001b[0m\u001b[0;34m.\u001b[0m\u001b[0marray\u001b[0m\u001b[0;34m(\u001b[0m\u001b[0;34m[\u001b[0m\u001b[0;34m-\u001b[0m\u001b[0;36m1\u001b[0m\u001b[0;34m/\u001b[0m\u001b[0;36m3\u001b[0m\u001b[0;34m,\u001b[0m \u001b[0;36m2\u001b[0m\u001b[0;34m*\u001b[0m\u001b[0mnp\u001b[0m\u001b[0;34m.\u001b[0m\u001b[0msqrt\u001b[0m\u001b[0;34m(\u001b[0m\u001b[0;36m2\u001b[0m\u001b[0;34m)\u001b[0m\u001b[0;34m/\u001b[0m\u001b[0;36m3\u001b[0m\u001b[0;34m]\u001b[0m\u001b[0;34m)\u001b[0m\u001b[0;34m)\u001b[0m\u001b[0;34m\u001b[0m\u001b[0;34m\u001b[0m\u001b[0m\n\u001b[1;32m      4\u001b[0m \u001b[0;32massert\u001b[0m \u001b[0mis_quantum_state\u001b[0m\u001b[0;34m(\u001b[0m\u001b[0mnp\u001b[0m\u001b[0;34m.\u001b[0m\u001b[0marray\u001b[0m\u001b[0;34m(\u001b[0m\u001b[0;34m[\u001b[0m\u001b[0;34m-\u001b[0m\u001b[0;36m1j\u001b[0m\u001b[0;34m/\u001b[0m\u001b[0;36m3\u001b[0m\u001b[0;34m,\u001b[0m \u001b[0;36m2\u001b[0m\u001b[0;34m*\u001b[0m\u001b[0mnp\u001b[0m\u001b[0;34m.\u001b[0m\u001b[0msqrt\u001b[0m\u001b[0;34m(\u001b[0m\u001b[0;36m2\u001b[0m\u001b[0;34m)\u001b[0m\u001b[0;34m/\u001b[0m\u001b[0;36m3\u001b[0m\u001b[0;34m]\u001b[0m\u001b[0;34m)\u001b[0m\u001b[0;34m)\u001b[0m\u001b[0;34m\u001b[0m\u001b[0;34m\u001b[0m\u001b[0m\n\u001b[0;32m----> 5\u001b[0;31m \u001b[0;32massert\u001b[0m  \u001b[0mis_quantum_state\u001b[0m\u001b[0;34m(\u001b[0m\u001b[0mnp\u001b[0m\u001b[0;34m.\u001b[0m\u001b[0marray\u001b[0m\u001b[0;34m(\u001b[0m\u001b[0;34m[\u001b[0m\u001b[0;36m0.2\u001b[0m\u001b[0;34m,\u001b[0m \u001b[0;36m0.8\u001b[0m\u001b[0;34m]\u001b[0m\u001b[0;34m)\u001b[0m\u001b[0;34m)\u001b[0m\u001b[0;34m\u001b[0m\u001b[0;34m\u001b[0m\u001b[0m\n\u001b[0m",
      "\u001b[0;31mAssertionError\u001b[0m: "
     ]
    }
   ],
   "source": [
    "assert is_quantum_state(np.array([1/np.sqrt(2), 1/np.sqrt(2)]))\n",
    "assert is_quantum_state(np.array([-1/np.sqrt(2), 1/np.sqrt(2)]))\n",
    "assert is_quantum_state(np.array([-1/3, 2*np.sqrt(2)/3]))\n",
    "assert is_quantum_state(np.array([-1j/3, 2*np.sqrt(2)/3]))\n",
    "assert  not is_quantum_state(np.array([0.2, 0.8]))"
   ]
  },
  {
   "cell_type": "code",
   "execution_count": 31,
   "metadata": {},
   "outputs": [],
   "source": [
    "# quantum stuff\n",
    "import networkx"
   ]
  },
  {
   "cell_type": "code",
   "execution_count": null,
   "metadata": {},
   "outputs": [],
   "source": []
  }
 ],
 "metadata": {
  "kernelspec": {
   "display_name": "Python 3",
   "language": "python",
   "name": "python3"
  },
  "language_info": {
   "codemirror_mode": {
    "name": "ipython",
    "version": 3
   },
   "file_extension": ".py",
   "mimetype": "text/x-python",
   "name": "python",
   "nbconvert_exporter": "python",
   "pygments_lexer": "ipython3",
   "version": "3.7.7"
  }
 },
 "nbformat": 4,
 "nbformat_minor": 4
}
