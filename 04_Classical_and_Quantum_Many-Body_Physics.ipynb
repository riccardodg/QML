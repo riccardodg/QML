{
 "cells": [
  {
   "cell_type": "code",
   "execution_count": 2,
   "metadata": {},
   "outputs": [
    {
     "data": {
      "text/plain": [
       "1.7"
      ]
     },
     "execution_count": 2,
     "metadata": {},
     "output_type": "execute_result"
    }
   ],
   "source": [
    "'''\n",
    "Exercise 1 (1 point). The Ising model is a basic model of statistical mechanics that explains a lot about how quantum optimizers work. \n",
    "Its energy is described by its Hamiltonian:\n",
    "$$ H=-\\sum_{&lt;i,j&gt;} J_{ij} \\sigma_i \\sigma_{j} - \\sum_i h_i \\sigma_i$$.\n",
    "Write a function that calculates this energy amount for a linear chain of spins. \n",
    "The function takes three arguments: J, h, and σ, corresponding to the coupling strengths, the onsite field at each site, and the specific spin configuration\n",
    "\n",
    "'''\n",
    "\n",
    "'''\n",
    "the function sums spin-spin and adds the external \n",
    "'''\n",
    "def calculate_energy(J, σ,h):\n",
    "    spinspin=-sum(J_ij*σ[i]*σ[i+1] for i, J_ij in enumerate(J))\n",
    "    spinh =-sum(h_i*σ[i] for i, h_i in enumerate(h))\n",
    "    return spinspin+spinh\n",
    "\n",
    "\n",
    "\n",
    "J = [1.0, -1.0,-1.0, -1.0]\n",
    "σ = [+1, -1, +1,+1,+1]\n",
    "h = [0.5, 0.5, 0.4,0.5,-0.6]\n",
    "\n",
    "calculate_energy(J, σ,h)"
   ]
  },
  {
   "cell_type": "code",
   "execution_count": 8,
   "metadata": {},
   "outputs": [],
   "source": [
    "'''\n",
    "Exercise 2 (2 points). \n",
    "The sign of the coupling defines the nature of the interaction, ferromagnetic or antiferromagnetic, corresponding to positive and negative $J$ values, respectively. \n",
    "Setting the couplings to zero, we have a non-interacting model. Create an arbitrary antiferromagnetic model on three sites with no external field. Define the model through variables J and h. Iterate over all solutions and write the optimal one in a variable called σ. \n",
    "If the optimum is degenerate, that is, you have more than one optimal configuration, keep one.\n",
    "\n",
    "'''\n",
    "import itertools\n",
    "# J is negative because it is antiferromagnetic\n",
    "# the itertools creates the coupling +1 and -1 for three sites (range3) \n",
    "### BEGIN SOLUTION\n",
    "J = [-1, -1]\n",
    "h = [0, 0, 0]\n",
    "minimum_energy = 0\n",
    "for σ_c in itertools.product(*[{+1,-1} for _ in range(3)]):\n",
    "    energy = calculate_energy(J, h, σ_c)\n",
    "    if energy < minimum_energy:\n",
    "        minimum_energy = energy\n",
    "        σ = σ_c\n",
    "### END SOLUTION"
   ]
  },
  {
   "cell_type": "code",
   "execution_count": 9,
   "metadata": {},
   "outputs": [
    {
     "data": {
      "text/plain": [
       "(-1, -1, -1)"
      ]
     },
     "execution_count": 9,
     "metadata": {},
     "output_type": "execute_result"
    }
   ],
   "source": [
    "σ_c\n"
   ]
  },
  {
   "cell_type": "code",
   "execution_count": 12,
   "metadata": {},
   "outputs": [],
   "source": [
    "'''\n",
    "Exercise 3 (1 point). \n",
    "Iterating over all solutions is clearly not efficient, since there are exponentially many configurations in the number of sites. \n",
    "From the perspective of computer science, this is a combinatorial optimization problem, and it is a known NP-hard problem. \n",
    "Many heuristic methods have been invented to tackle the problem. One of them is simulated annealing. \n",
    "It is implemented in dimod. Create the same antiferromagnetic model in dimod as above. \n",
    "Keep in mind that dimod uses a plus and not a minus sign in the Hamiltonian, so the sign of your couplings should be reversed. \n",
    "Store the model in an object called model, which should be a BinaryQuadraticModel.\n",
    "\n",
    "'''\n",
    "# we use the dimod from dwave\n",
    "# the coupling J is positive\n",
    "J = {(0, 1): 1.0, (1, 2): 1.0} # two Js means three spins\n",
    "h = {0:0, 1:0, 2:0} # no external interaction\n",
    "import dimod\n",
    "model = dimod.BinaryQuadraticModel(h, J, 0.0, dimod.SPIN)\n",
    "sampler = dimod.SimulatedAnnealingSampler()\n",
    "response = sampler.sample(model, num_reads=100)"
   ]
  },
  {
   "cell_type": "code",
   "execution_count": 13,
   "metadata": {},
   "outputs": [
    {
     "data": {
      "text/plain": [
       "SampleSet(rec.array([([-1,  1, -1], -2., 1), ([-1,  1, -1], -2., 1),\n",
       "           ([ 1, -1,  1], -2., 1), ([-1,  1, -1], -2., 1),\n",
       "           ([ 1, -1,  1], -2., 1), ([-1,  1, -1], -2., 1),\n",
       "           ([-1,  1, -1], -2., 1), ([-1,  1, -1], -2., 1),\n",
       "           ([-1,  1, -1], -2., 1), ([-1,  1, -1], -2., 1),\n",
       "           ([ 1, -1,  1], -2., 1), ([-1,  1, -1], -2., 1),\n",
       "           ([ 1, -1,  1], -2., 1), ([-1,  1, -1], -2., 1),\n",
       "           ([-1,  1, -1], -2., 1), ([-1,  1, -1], -2., 1),\n",
       "           ([-1,  1, -1], -2., 1), ([ 1, -1,  1], -2., 1),\n",
       "           ([-1,  1, -1], -2., 1), ([-1,  1, -1], -2., 1),\n",
       "           ([ 1, -1,  1], -2., 1), ([ 1, -1,  1], -2., 1),\n",
       "           ([-1,  1, -1], -2., 1), ([-1,  1, -1], -2., 1),\n",
       "           ([ 1, -1,  1], -2., 1), ([-1,  1, -1], -2., 1),\n",
       "           ([-1,  1, -1], -2., 1), ([ 1, -1,  1], -2., 1),\n",
       "           ([-1,  1, -1], -2., 1), ([ 1, -1,  1], -2., 1),\n",
       "           ([ 1, -1,  1], -2., 1), ([ 1, -1,  1], -2., 1),\n",
       "           ([ 1, -1,  1], -2., 1), ([ 1, -1,  1], -2., 1),\n",
       "           ([ 1, -1,  1], -2., 1), ([-1,  1, -1], -2., 1),\n",
       "           ([-1,  1, -1], -2., 1), ([-1,  1, -1], -2., 1),\n",
       "           ([ 1, -1,  1], -2., 1), ([-1,  1, -1], -2., 1),\n",
       "           ([-1, -1,  1],  0., 1), ([ 1, -1,  1], -2., 1),\n",
       "           ([ 1, -1,  1], -2., 1), ([-1,  1, -1], -2., 1),\n",
       "           ([-1,  1, -1], -2., 1), ([-1,  1, -1], -2., 1),\n",
       "           ([ 1, -1,  1], -2., 1), ([ 1, -1,  1], -2., 1),\n",
       "           ([-1,  1, -1], -2., 1), ([-1,  1, -1], -2., 1),\n",
       "           ([-1,  1, -1], -2., 1), ([ 1, -1,  1], -2., 1),\n",
       "           ([-1,  1, -1], -2., 1), ([-1,  1, -1], -2., 1),\n",
       "           ([-1,  1, -1], -2., 1), ([-1,  1, -1], -2., 1),\n",
       "           ([ 1, -1,  1], -2., 1), ([-1,  1, -1], -2., 1),\n",
       "           ([-1,  1, -1], -2., 1), ([ 1, -1,  1], -2., 1),\n",
       "           ([ 1, -1,  1], -2., 1), ([-1,  1, -1], -2., 1),\n",
       "           ([ 1, -1,  1], -2., 1), ([-1,  1, -1], -2., 1),\n",
       "           ([-1,  1, -1], -2., 1), ([ 1, -1,  1], -2., 1),\n",
       "           ([-1,  1, -1], -2., 1), ([-1,  1, -1], -2., 1),\n",
       "           ([-1,  1, -1], -2., 1), ([-1,  1, -1], -2., 1),\n",
       "           ([-1,  1, -1], -2., 1), ([-1,  1, -1], -2., 1),\n",
       "           ([-1,  1, -1], -2., 1), ([ 1, -1,  1], -2., 1),\n",
       "           ([-1,  1, -1], -2., 1), ([ 1, -1,  1], -2., 1),\n",
       "           ([ 1, -1,  1], -2., 1), ([-1,  1, -1], -2., 1),\n",
       "           ([ 1, -1,  1], -2., 1), ([ 1, -1,  1], -2., 1),\n",
       "           ([ 1, -1,  1], -2., 1), ([-1,  1, -1], -2., 1),\n",
       "           ([-1,  1, -1], -2., 1), ([-1,  1, -1], -2., 1),\n",
       "           ([-1,  1, -1], -2., 1), ([-1,  1, -1], -2., 1),\n",
       "           ([ 1, -1,  1], -2., 1), ([-1,  1, -1], -2., 1),\n",
       "           ([ 1, -1,  1], -2., 1), ([-1,  1, -1], -2., 1),\n",
       "           ([-1,  1, -1], -2., 1), ([ 1, -1,  1], -2., 1),\n",
       "           ([ 1, -1,  1], -2., 1), ([-1,  1, -1], -2., 1),\n",
       "           ([ 1, -1,  1], -2., 1), ([ 1, -1,  1], -2., 1),\n",
       "           ([ 1, -1,  1], -2., 1), ([ 1, -1,  1], -2., 1),\n",
       "           ([-1,  1, -1], -2., 1), ([-1,  1, -1], -2., 1)],\n",
       "          dtype=[('sample', 'i1', (3,)), ('energy', '<f8'), ('num_occurrences', '<i8')]), Variables([0, 1, 2]), {}, 'SPIN')"
      ]
     },
     "execution_count": 13,
     "metadata": {},
     "output_type": "execute_result"
    }
   ],
   "source": [
    "response"
   ]
  },
  {
   "cell_type": "code",
   "execution_count": 14,
   "metadata": {},
   "outputs": [],
   "source": [
    "assert len(response) == 100, \"Not the correct number of samples\"\n",
    "sample = response.first.sample\n",
    "assert all([sample[i]*sample[i+1] == -1 for i, _ in enumerate(J.values())]), \"The optimal configuration is not antiferromagnetic\""
   ]
  },
  {
   "cell_type": "code",
   "execution_count": 29,
   "metadata": {},
   "outputs": [
    {
     "name": "stdout",
     "output_type": "stream",
     "text": [
      "[[-1  0  0  0]\n",
      " [ 0  1  0  0]\n",
      " [ 0  0  1  0]\n",
      " [ 0  0  0 -1]]\n",
      "[[1.]\n",
      " [0.]\n",
      " [0.]\n",
      " [0.]]\n",
      "[[0.]\n",
      " [0.]\n",
      " [0.]\n",
      " [1.]]\n",
      "[[1. 0. 0. 0.]\n",
      " [0. 0. 0. 1.]\n",
      " [0. 0. 1. 0.]\n",
      " [0. 1. 0. 0.]]\n"
     ]
    }
   ],
   "source": [
    "'''\n",
    "\n",
    "The transverse-field Ising model\n",
    "\n",
    "Exercise 5 (1 point). Adiabatic quantum computation and quantum annealing rely on quantum variants of the classical Ising model, \n",
    "and so do some variational algorithms like the quantum approximate optimization algorithm. \n",
    "To understand the logic behind these simple quantum-many body systems, first let us take another look at the classical Ising model, but write the \n",
    "Hamiltonian of the system in the quantum mechanical formalism, that is, with operators:\n",
    "$$ H=-\\sum_{&lt;i,j&gt;} J_{ij} \\sigma^Z_i \\sigma^Z_{j} - \\sum_i h_i \\sigma^Z_i$$\n",
    "\n",
    "'''\n",
    "\n",
    "# Z is the pauli at site 1\n",
    "import numpy as np\n",
    "Z1=np.array([[1,0],[0,-1]])\n",
    "Z1\n",
    "Z2=np.array([[1,0],[0,-1]])\n",
    "# the Hamiltonian is Z1 tensor Z2\n",
    "H=-np.kron(Z1,Z2)\n",
    "print(H)\n",
    "# get eigenvalues\n",
    "\n",
    "\n",
    "_, eigenvectors = np.linalg.eigh(H)\n",
    "print(eigenvectors[:, 0:1])\n",
    "print(eigenvectors[:, 1:2])\n",
    "print(eigenvectors)\n",
    "\n"
   ]
  },
  {
   "cell_type": "code",
   "execution_count": 19,
   "metadata": {},
   "outputs": [
    {
     "data": {
      "text/plain": [
       "array([[ 1,  0,  0,  0],\n",
       "       [ 0, -1,  0,  0],\n",
       "       [ 0,  0, -1,  0],\n",
       "       [ 0,  0,  0,  1]])"
      ]
     },
     "execution_count": 19,
     "metadata": {},
     "output_type": "execute_result"
    }
   ],
   "source": [
    "H"
   ]
  },
  {
   "cell_type": "code",
   "execution_count": 31,
   "metadata": {},
   "outputs": [
    {
     "name": "stdout",
     "output_type": "stream",
     "text": [
      "[-1. -1.  1.  1.] [[1. 0. 0. 0.]\n",
      " [0. 0. 0. 1.]\n",
      " [0. 0. 1. 0.]\n",
      " [0. 1. 0. 0.]]\n"
     ]
    },
    {
     "data": {
      "text/plain": [
       "-1.0"
      ]
     },
     "execution_count": 31,
     "metadata": {},
     "output_type": "execute_result"
    }
   ],
   "source": [
    "values, eigenvectors = np.linalg.eigh(H)\n",
    "'''\n",
    "print(eigenvectors[:, 0:1])\n",
    "print(eigenvectors[:, 1:2])\n",
    "'''\n",
    "print(values,eigenvectors)\n",
    "'''\n",
    "we have two eigenvalues +1 and -1. The 00 and 11 states (aligned and antialigned) correspond\n",
    "\n",
    "the gound state is 1,0,0,0 or 0,0,0,1\n",
    "we want to calculate <00|H|00>\n",
    "'''\n",
    "def calculate_energy_expectation(state, hamiltonian):\n",
    "    return float(np.dot(state.T.conj(), np.dot(hamiltonian, state)).real)\n",
    "\n",
    "ψ = np.kron([[0], [1]], [[0], [1]])\n",
    "calculate_energy_expectation(ψ, H)"
   ]
  },
  {
   "cell_type": "code",
   "execution_count": 40,
   "metadata": {},
   "outputs": [
    {
     "name": "stdout",
     "output_type": "stream",
     "text": [
      "[[-1  0  0  0]\n",
      " [ 0  1  0  0]\n",
      " [ 0  0  1  0]\n",
      " [ 0  0  0 -1]]\n",
      "[[-1. -1. -1.  0.]\n",
      " [-1.  1.  0. -1.]\n",
      " [-1.  0.  1. -1.]\n",
      " [ 0. -1. -1. -1.]]\n",
      "-2.23606797749979 [ 6.01500955e-01 -7.07106781e-01 -1.11022302e-16  3.71748034e-01]\n",
      "1.3763819204711731\n",
      "-0.9999999999999999 [ 3.71748034e-01  4.29322157e-18  7.07106781e-01 -6.01500955e-01]\n",
      "0.3249196962329064\n",
      "1.0 [ 3.71748034e-01  4.29322157e-18 -7.07106781e-01 -6.01500955e-01]\n",
      "-0.3249196962329065\n",
      "2.236067977499789 [ 6.01500955e-01  7.07106781e-01 -2.22044605e-16  3.71748034e-01]\n",
      "-1.3763819204711727\n"
     ]
    }
   ],
   "source": [
    "'''\n",
    "What is we add an X to the H?\n",
    "Since we have two qubits, we have I_1X_2 and X_1I_2\n",
    "'''\n",
    "\n",
    "# basic Hamiltonian\n",
    "Z1=np.array([[1,0],[0,-1]])\n",
    "Z1\n",
    "Z2=np.array([[1,0],[0,-1]])\n",
    "# the Hamiltonian is Z1 tensor Z2\n",
    "H_1=-np.kron(Z1,Z2)\n",
    "print(H_1)\n",
    "\n",
    "X = np.array([[0, 1], [1, 0]])\n",
    "IX = np.kron(np.eye(2), X)\n",
    "XI = np.kron(X, np.eye(2))\n",
    "H = H_1 -XI-IX\n",
    "print(H)\n",
    "\n",
    "# the X change the eigenvectors\n",
    "values, eigenvectors = np.linalg.eigh(H)\n",
    "for i in range(len(values)):\n",
    "    print(values[i], eigenvectors[i])\n",
    "    print(calculate_energy_expectation(eigenvectors[i], H))"
   ]
  },
  {
   "cell_type": "code",
   "execution_count": null,
   "metadata": {},
   "outputs": [],
   "source": []
  }
 ],
 "metadata": {
  "kernelspec": {
   "display_name": "Python 3",
   "language": "python",
   "name": "python3"
  },
  "language_info": {
   "codemirror_mode": {
    "name": "ipython",
    "version": 3
   },
   "file_extension": ".py",
   "mimetype": "text/x-python",
   "name": "python",
   "nbconvert_exporter": "python",
   "pygments_lexer": "ipython3",
   "version": "3.7.7"
  }
 },
 "nbformat": 4,
 "nbformat_minor": 4
}
