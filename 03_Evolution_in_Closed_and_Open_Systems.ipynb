{
 "cells": [
  {
   "cell_type": "code",
   "execution_count": 11,
   "metadata": {},
   "outputs": [
    {
     "data": {
      "text/plain": [
       "True"
      ]
     },
     "execution_count": 11,
     "metadata": {},
     "output_type": "execute_result"
    }
   ],
   "source": [
    "'''\n",
    "Exercise 1 (1 point). The conjugate transpose of a unitary matrix is its inverse. Write a function that checks if a $2\\times 2$ numpy array is unitary.\n",
    "\n",
    "'''\n",
    "'''\n",
    "a matrix is daid to be unitary if its conjugate transpose is its inverse, or if their dot product is the identity\n",
    "'''\n",
    "import numpy as np\n",
    "def is_unitary(matrix):\n",
    "    matrix_dagger=matrix.T.conj()\n",
    "    matrix_dot=matrix @ matrix_dagger\n",
    "    id=np.eye(2) # create a 2x2 id matrix\n",
    "    return (np.allclose(matrix_dot,id))\n",
    "\n",
    "matrix= np.array([[0, -1J], [1J, 0]])\n",
    "is_unitary(matrix)"
   ]
  },
  {
   "cell_type": "code",
   "execution_count": 15,
   "metadata": {},
   "outputs": [
    {
     "data": {
      "text/plain": [
       "array([[0.06912481, 0.30740941],\n",
       "       [0.95102666, 0.63524685]])"
      ]
     },
     "execution_count": 15,
     "metadata": {},
     "output_type": "execute_result"
    }
   ],
   "source": [
    "X = np.array([[0, 1], [1, 0]])\n",
    "H = 1/np.sqrt(2)*np.array([[1, 1], [1, -1]])\n",
    "random_matrix = np.random.rand(2, 2)\n",
    "\n",
    "assert is_unitary(X)\n",
    "assert is_unitary(H)\n",
    "assert not is_unitary(random_matrix)\n",
    "random_matrix"
   ]
  },
  {
   "cell_type": "code",
   "execution_count": 16,
   "metadata": {},
   "outputs": [
    {
     "name": "stdout",
     "output_type": "stream",
     "text": [
      "The eigenvalues of H are [ 1. -1.]\n"
     ]
    }
   ],
   "source": [
    "'''\n",
    "Exercise 2 (1 point). \n",
    "The eigenvalues of unitary operators always lie on the complex unit circle. \n",
    "We exploit this property over and over again. \n",
    "For instance, the quantum phase estimation algorithm estimates the eigenvalues through the phase that describes the eigenvalues angle on the complex unit circle. \n",
    "Calculate the eigenvalues of the Hadamard gate and store them in a numpy array called eigenvalues.\n",
    "\n",
    "'''\n",
    "\n",
    "'''\n",
    "we use the linalg.eigvals(a) of numpy\n",
    "'''\n",
    "import numpy as np\n",
    "def eigenvalues(matrix):\n",
    "    return np.linalg.eigvals(matrix)\n",
    "\n",
    "# H\n",
    "H = 1/np.sqrt(2)*np.array([[1, 1], [1, -1]])\n",
    "print(\"The eigenvalues of H are {}\".format(eigenvalues(H)))"
   ]
  },
  {
   "cell_type": "code",
   "execution_count": 27,
   "metadata": {},
   "outputs": [
    {
     "name": "stdout",
     "output_type": "stream",
     "text": [
      "Amplitues are [ 0.707-0.j -0.707+0.j]\n",
      "Amplitues after reverse are [1.-0.j 0.+0.j]\n"
     ]
    }
   ],
   "source": [
    "'''\n",
    "Exercise 3 (1 point). Unitary operations are reversible. \n",
    "In fact, we often reverse them on purpose: this is called uncomputing, and used, for instance, in the quantum matrix inversion algorithm that underlies \n",
    "many coherent quantum machine learning protocols. \n",
    "The reason we do that is to remove the entanglement we might have created, so that tracing out a subsystem would not interfere with our calculations \n",
    "(the remaining system will not be a mixed state). \n",
    "Create a circuit in your preferred framework that applies the X and H gates in this sequence. \n",
    "The circuit should be in an object called circuit.\n",
    "\n",
    "'''\n",
    "'''\n",
    "Created with IBMQExperience\n",
    "'''\n",
    "from qiskit import QuantumRegister, ClassicalRegister, QuantumCircuit\n",
    "from numpy import pi\n",
    "\n",
    "qreg_q = QuantumRegister(1, 'q')\n",
    "creg_c = ClassicalRegister(1, 'c')\n",
    "circuit = QuantumCircuit(qreg_q, creg_c)\n",
    "\n",
    "circuit.x(qreg_q[0])\n",
    "circuit.h(qreg_q[0])\n",
    "circuit.draw('mpl')\n",
    "#amplitues are calculated with statevector backend\n",
    "from qiskit import execute\n",
    "from qiskit import Aer\n",
    "from qiskit.tools.visualization import circuit_drawer\n",
    "np.set_printoptions(precision=3, suppress=True)\n",
    "\n",
    "backend_statevector = Aer.get_backend('statevector_simulator')\n",
    "job = execute(circuit, backend_statevector)\n",
    "amplitudes=job.result().get_statevector(circuit)\n",
    "print(\"Amplitues are {}\".format(amplitudes))\n",
    "#use the inverse() to invert the circuit\n",
    "c2 = circuit.inverse ()\n",
    "c2.draw('mpl')\n",
    "circuit.append(c2,qreg_q,creg_c)\n",
    "\n",
    "circuit.draw('mpl')\n",
    "job = execute(circuit, backend_statevector)\n",
    "amplitudes=job.result().get_statevector(circuit)\n",
    "print(\"Amplitues after reverse are {}\".format(amplitudes))"
   ]
  },
  {
   "cell_type": "code",
   "execution_count": 30,
   "metadata": {},
   "outputs": [],
   "source": [
    "'''\n",
    "Ex 5 it is NOT a pure state\n",
    "'''\n",
    "import numpy as np\n",
    "energies = np.array([-1.0, +1.0])\n",
    "T = 1\n",
    "### BEGIN SOLUTION\n",
    "probabilities = np.exp(-energies/T)\n",
    "Z = probabilities.sum()\n",
    "probabilities /= Z\n",
    "dm = np.diag(probabilities)"
   ]
  },
  {
   "cell_type": "code",
   "execution_count": 29,
   "metadata": {},
   "outputs": [
    {
     "data": {
      "text/plain": [
       "array([[0.881, 0.   ],\n",
       "       [0.   , 0.119]])"
      ]
     },
     "execution_count": 29,
     "metadata": {},
     "output_type": "execute_result"
    }
   ],
   "source": [
    "dm"
   ]
  },
  {
   "cell_type": "code",
   "execution_count": null,
   "metadata": {},
   "outputs": [],
   "source": []
  }
 ],
 "metadata": {
  "kernelspec": {
   "display_name": "Python 3",
   "language": "python",
   "name": "python3"
  },
  "language_info": {
   "codemirror_mode": {
    "name": "ipython",
    "version": 3
   },
   "file_extension": ".py",
   "mimetype": "text/x-python",
   "name": "python",
   "nbconvert_exporter": "python",
   "pygments_lexer": "ipython3",
   "version": "3.7.7"
  }
 },
 "nbformat": 4,
 "nbformat_minor": 4
}
